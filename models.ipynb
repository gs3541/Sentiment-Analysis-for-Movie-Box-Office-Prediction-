{
  "cells": [
    {
      "cell_type": "markdown",
      "source": [
        "# PA Project - Team 5 : Code File 3/3\n",
        "##Caglar Dogan - Ekantika Singh - Gurmehr Sohi\n",
        "\n",
        "The code in this file reads the \"model_data.csv\" (which contains the information scraped from IMDB for each movie as well as sentiment scores and a popularity score calculated from the posts in the last five days before release), provides insight into the attributes present, and trains and tests predictive models using this information.\n"
      ],
      "metadata": {
        "id": "fShiPE7Xt5Lw"
      }
    },
    {
      "cell_type": "markdown",
      "metadata": {
        "id": "wEaugoxhkZTN"
      },
      "source": [
        "## Importing the Data and Pre-Processing\n",
        "\n",
        "This section handles the reading of data from the given csv file, clens the data, and provides insight on the data."
      ]
    },
    {
      "cell_type": "code",
      "execution_count": 1,
      "metadata": {
        "colab": {
          "base_uri": "https://localhost:8080/"
        },
        "id": "vo3kR-kbkZTP",
        "outputId": "1f3acbf2-a6c4-4f7f-a8b9-1f397a7e8537"
      },
      "outputs": [
        {
          "output_type": "stream",
          "name": "stdout",
          "text": [
            "Finished successfully loading packages\n",
            "\n"
          ]
        }
      ],
      "source": [
        "import numpy as np\n",
        "import pandas as pd\n",
        "\n",
        "import statistics\n",
        "from statistics import mean, median, stdev, variance\n",
        "\n",
        "# Machine learning packages\n",
        "from sklearn import metrics\n",
        "from sklearn.model_selection import train_test_split\n",
        "from sklearn.model_selection import KFold\n",
        "\n",
        "from sklearn.preprocessing import StandardScaler\n",
        "\n",
        "from sklearn.cluster import KMeans\n",
        "from sklearn.metrics import silhouette_samples, silhouette_score\n",
        "\n",
        "from sklearn.linear_model import LinearRegression\n",
        "from sklearn.ensemble import RandomForestRegressor, AdaBoostRegressor\n",
        "\n",
        "# Plotting packages\n",
        "import matplotlib\n",
        "import matplotlib.pyplot as plt\n",
        "\n",
        "%matplotlib inline \n",
        "\n",
        "print('Finished successfully loading packages\\n')"
      ]
    },
    {
      "cell_type": "markdown",
      "metadata": {
        "id": "R49PXqIFkZTQ"
      },
      "source": [
        "### Importing the Data"
      ]
    },
    {
      "cell_type": "code",
      "execution_count": 2,
      "metadata": {
        "colab": {
          "base_uri": "https://localhost:8080/",
          "height": 687
        },
        "id": "EjYX8F5LkZTQ",
        "outputId": "cedc19e4-93d2-4812-8678-fa362849a4bb"
      },
      "outputs": [
        {
          "output_type": "stream",
          "name": "stdout",
          "text": [
            "pd dataframe showing the raw data:\n",
            "\n"
          ]
        },
        {
          "output_type": "display_data",
          "data": {
            "text/plain": [
              "                                 name  watchtime       budget  \\\n",
              "0                        The Predator      107.0   88000000.0   \n",
              "1    Once Upon a Time... In Hollywood      161.0   90000000.0   \n",
              "2                       The Nice Guys      116.0   50000000.0   \n",
              "3                   Avengers: Endgame      181.0  356000000.0   \n",
              "4                             Mother!      121.0   30000000.0   \n",
              "..                                ...        ...          ...   \n",
              "582                            Mine 9       83.0     350000.0   \n",
              "583                Let There Be Light      100.0    3000000.0   \n",
              "584                       Indivisible      119.0    2700000.0   \n",
              "585                        El Chicano      108.0    8000000.0   \n",
              "586               The Assassin's Code       95.0    1800000.0   \n",
              "\n",
              "     weekend_gross_us_canada weekend_date  vader_sentiment  \\\n",
              "0                 24632284.0    2018-9-16         0.048495   \n",
              "1                 41082018.0    2019-7-28         0.115208   \n",
              "2                 11203270.0    2016-5-22         0.128721   \n",
              "3                357115007.0    2019-4-28         0.070877   \n",
              "4                  7534673.0    2017-9-17         0.001378   \n",
              "..                       ...          ...              ...   \n",
              "582                  68921.0    2019-4-14         0.030950   \n",
              "583                1729535.0   2017-10-29         0.033001   \n",
              "584                1503101.0   2018-10-28         0.076392   \n",
              "585                 700261.0     2019-5-5         0.055454   \n",
              "586                  11218.0    2018-5-13        -0.079012   \n",
              "\n",
              "     text_blob_polarity  text_blob_subjectivity  popularity  weekend_roi  \n",
              "0              0.062085                0.316292     35577.0     0.279912  \n",
              "1              0.070464                0.223233      7859.0     0.456467  \n",
              "2              0.094116                0.376873     37543.0     0.224065  \n",
              "3              0.050050                0.234112    218147.0     1.003132  \n",
              "4              0.031974                0.296877    239630.0     0.251156  \n",
              "..                  ...                     ...         ...          ...  \n",
              "582            0.051804                0.345523      8678.0     0.196917  \n",
              "583            0.058005                0.342593     23046.0     0.576512  \n",
              "584            0.090659                0.306311        21.0     0.556704  \n",
              "585           -0.029009                0.130051        13.0     0.087533  \n",
              "586            0.033189                0.298083        36.0     0.006232  \n",
              "\n",
              "[587 rows x 10 columns]"
            ],
            "text/html": [
              "\n",
              "  <div id=\"df-8fc1f422-4b21-42b6-bb17-0ee49174bbf9\">\n",
              "    <div class=\"colab-df-container\">\n",
              "      <div>\n",
              "<style scoped>\n",
              "    .dataframe tbody tr th:only-of-type {\n",
              "        vertical-align: middle;\n",
              "    }\n",
              "\n",
              "    .dataframe tbody tr th {\n",
              "        vertical-align: top;\n",
              "    }\n",
              "\n",
              "    .dataframe thead th {\n",
              "        text-align: right;\n",
              "    }\n",
              "</style>\n",
              "<table border=\"1\" class=\"dataframe\">\n",
              "  <thead>\n",
              "    <tr style=\"text-align: right;\">\n",
              "      <th></th>\n",
              "      <th>name</th>\n",
              "      <th>watchtime</th>\n",
              "      <th>budget</th>\n",
              "      <th>weekend_gross_us_canada</th>\n",
              "      <th>weekend_date</th>\n",
              "      <th>vader_sentiment</th>\n",
              "      <th>text_blob_polarity</th>\n",
              "      <th>text_blob_subjectivity</th>\n",
              "      <th>popularity</th>\n",
              "      <th>weekend_roi</th>\n",
              "    </tr>\n",
              "  </thead>\n",
              "  <tbody>\n",
              "    <tr>\n",
              "      <th>0</th>\n",
              "      <td>The Predator</td>\n",
              "      <td>107.0</td>\n",
              "      <td>88000000.0</td>\n",
              "      <td>24632284.0</td>\n",
              "      <td>2018-9-16</td>\n",
              "      <td>0.048495</td>\n",
              "      <td>0.062085</td>\n",
              "      <td>0.316292</td>\n",
              "      <td>35577.0</td>\n",
              "      <td>0.279912</td>\n",
              "    </tr>\n",
              "    <tr>\n",
              "      <th>1</th>\n",
              "      <td>Once Upon a Time... In Hollywood</td>\n",
              "      <td>161.0</td>\n",
              "      <td>90000000.0</td>\n",
              "      <td>41082018.0</td>\n",
              "      <td>2019-7-28</td>\n",
              "      <td>0.115208</td>\n",
              "      <td>0.070464</td>\n",
              "      <td>0.223233</td>\n",
              "      <td>7859.0</td>\n",
              "      <td>0.456467</td>\n",
              "    </tr>\n",
              "    <tr>\n",
              "      <th>2</th>\n",
              "      <td>The Nice Guys</td>\n",
              "      <td>116.0</td>\n",
              "      <td>50000000.0</td>\n",
              "      <td>11203270.0</td>\n",
              "      <td>2016-5-22</td>\n",
              "      <td>0.128721</td>\n",
              "      <td>0.094116</td>\n",
              "      <td>0.376873</td>\n",
              "      <td>37543.0</td>\n",
              "      <td>0.224065</td>\n",
              "    </tr>\n",
              "    <tr>\n",
              "      <th>3</th>\n",
              "      <td>Avengers: Endgame</td>\n",
              "      <td>181.0</td>\n",
              "      <td>356000000.0</td>\n",
              "      <td>357115007.0</td>\n",
              "      <td>2019-4-28</td>\n",
              "      <td>0.070877</td>\n",
              "      <td>0.050050</td>\n",
              "      <td>0.234112</td>\n",
              "      <td>218147.0</td>\n",
              "      <td>1.003132</td>\n",
              "    </tr>\n",
              "    <tr>\n",
              "      <th>4</th>\n",
              "      <td>Mother!</td>\n",
              "      <td>121.0</td>\n",
              "      <td>30000000.0</td>\n",
              "      <td>7534673.0</td>\n",
              "      <td>2017-9-17</td>\n",
              "      <td>0.001378</td>\n",
              "      <td>0.031974</td>\n",
              "      <td>0.296877</td>\n",
              "      <td>239630.0</td>\n",
              "      <td>0.251156</td>\n",
              "    </tr>\n",
              "    <tr>\n",
              "      <th>...</th>\n",
              "      <td>...</td>\n",
              "      <td>...</td>\n",
              "      <td>...</td>\n",
              "      <td>...</td>\n",
              "      <td>...</td>\n",
              "      <td>...</td>\n",
              "      <td>...</td>\n",
              "      <td>...</td>\n",
              "      <td>...</td>\n",
              "      <td>...</td>\n",
              "    </tr>\n",
              "    <tr>\n",
              "      <th>582</th>\n",
              "      <td>Mine 9</td>\n",
              "      <td>83.0</td>\n",
              "      <td>350000.0</td>\n",
              "      <td>68921.0</td>\n",
              "      <td>2019-4-14</td>\n",
              "      <td>0.030950</td>\n",
              "      <td>0.051804</td>\n",
              "      <td>0.345523</td>\n",
              "      <td>8678.0</td>\n",
              "      <td>0.196917</td>\n",
              "    </tr>\n",
              "    <tr>\n",
              "      <th>583</th>\n",
              "      <td>Let There Be Light</td>\n",
              "      <td>100.0</td>\n",
              "      <td>3000000.0</td>\n",
              "      <td>1729535.0</td>\n",
              "      <td>2017-10-29</td>\n",
              "      <td>0.033001</td>\n",
              "      <td>0.058005</td>\n",
              "      <td>0.342593</td>\n",
              "      <td>23046.0</td>\n",
              "      <td>0.576512</td>\n",
              "    </tr>\n",
              "    <tr>\n",
              "      <th>584</th>\n",
              "      <td>Indivisible</td>\n",
              "      <td>119.0</td>\n",
              "      <td>2700000.0</td>\n",
              "      <td>1503101.0</td>\n",
              "      <td>2018-10-28</td>\n",
              "      <td>0.076392</td>\n",
              "      <td>0.090659</td>\n",
              "      <td>0.306311</td>\n",
              "      <td>21.0</td>\n",
              "      <td>0.556704</td>\n",
              "    </tr>\n",
              "    <tr>\n",
              "      <th>585</th>\n",
              "      <td>El Chicano</td>\n",
              "      <td>108.0</td>\n",
              "      <td>8000000.0</td>\n",
              "      <td>700261.0</td>\n",
              "      <td>2019-5-5</td>\n",
              "      <td>0.055454</td>\n",
              "      <td>-0.029009</td>\n",
              "      <td>0.130051</td>\n",
              "      <td>13.0</td>\n",
              "      <td>0.087533</td>\n",
              "    </tr>\n",
              "    <tr>\n",
              "      <th>586</th>\n",
              "      <td>The Assassin's Code</td>\n",
              "      <td>95.0</td>\n",
              "      <td>1800000.0</td>\n",
              "      <td>11218.0</td>\n",
              "      <td>2018-5-13</td>\n",
              "      <td>-0.079012</td>\n",
              "      <td>0.033189</td>\n",
              "      <td>0.298083</td>\n",
              "      <td>36.0</td>\n",
              "      <td>0.006232</td>\n",
              "    </tr>\n",
              "  </tbody>\n",
              "</table>\n",
              "<p>587 rows × 10 columns</p>\n",
              "</div>\n",
              "      <button class=\"colab-df-convert\" onclick=\"convertToInteractive('df-8fc1f422-4b21-42b6-bb17-0ee49174bbf9')\"\n",
              "              title=\"Convert this dataframe to an interactive table.\"\n",
              "              style=\"display:none;\">\n",
              "        \n",
              "  <svg xmlns=\"http://www.w3.org/2000/svg\" height=\"24px\"viewBox=\"0 0 24 24\"\n",
              "       width=\"24px\">\n",
              "    <path d=\"M0 0h24v24H0V0z\" fill=\"none\"/>\n",
              "    <path d=\"M18.56 5.44l.94 2.06.94-2.06 2.06-.94-2.06-.94-.94-2.06-.94 2.06-2.06.94zm-11 1L8.5 8.5l.94-2.06 2.06-.94-2.06-.94L8.5 2.5l-.94 2.06-2.06.94zm10 10l.94 2.06.94-2.06 2.06-.94-2.06-.94-.94-2.06-.94 2.06-2.06.94z\"/><path d=\"M17.41 7.96l-1.37-1.37c-.4-.4-.92-.59-1.43-.59-.52 0-1.04.2-1.43.59L10.3 9.45l-7.72 7.72c-.78.78-.78 2.05 0 2.83L4 21.41c.39.39.9.59 1.41.59.51 0 1.02-.2 1.41-.59l7.78-7.78 2.81-2.81c.8-.78.8-2.07 0-2.86zM5.41 20L4 18.59l7.72-7.72 1.47 1.35L5.41 20z\"/>\n",
              "  </svg>\n",
              "      </button>\n",
              "      \n",
              "  <style>\n",
              "    .colab-df-container {\n",
              "      display:flex;\n",
              "      flex-wrap:wrap;\n",
              "      gap: 12px;\n",
              "    }\n",
              "\n",
              "    .colab-df-convert {\n",
              "      background-color: #E8F0FE;\n",
              "      border: none;\n",
              "      border-radius: 50%;\n",
              "      cursor: pointer;\n",
              "      display: none;\n",
              "      fill: #1967D2;\n",
              "      height: 32px;\n",
              "      padding: 0 0 0 0;\n",
              "      width: 32px;\n",
              "    }\n",
              "\n",
              "    .colab-df-convert:hover {\n",
              "      background-color: #E2EBFA;\n",
              "      box-shadow: 0px 1px 2px rgba(60, 64, 67, 0.3), 0px 1px 3px 1px rgba(60, 64, 67, 0.15);\n",
              "      fill: #174EA6;\n",
              "    }\n",
              "\n",
              "    [theme=dark] .colab-df-convert {\n",
              "      background-color: #3B4455;\n",
              "      fill: #D2E3FC;\n",
              "    }\n",
              "\n",
              "    [theme=dark] .colab-df-convert:hover {\n",
              "      background-color: #434B5C;\n",
              "      box-shadow: 0px 1px 3px 1px rgba(0, 0, 0, 0.15);\n",
              "      filter: drop-shadow(0px 1px 2px rgba(0, 0, 0, 0.3));\n",
              "      fill: #FFFFFF;\n",
              "    }\n",
              "  </style>\n",
              "\n",
              "      <script>\n",
              "        const buttonEl =\n",
              "          document.querySelector('#df-8fc1f422-4b21-42b6-bb17-0ee49174bbf9 button.colab-df-convert');\n",
              "        buttonEl.style.display =\n",
              "          google.colab.kernel.accessAllowed ? 'block' : 'none';\n",
              "\n",
              "        async function convertToInteractive(key) {\n",
              "          const element = document.querySelector('#df-8fc1f422-4b21-42b6-bb17-0ee49174bbf9');\n",
              "          const dataTable =\n",
              "            await google.colab.kernel.invokeFunction('convertToInteractive',\n",
              "                                                     [key], {});\n",
              "          if (!dataTable) return;\n",
              "\n",
              "          const docLinkHtml = 'Like what you see? Visit the ' +\n",
              "            '<a target=\"_blank\" href=https://colab.research.google.com/notebooks/data_table.ipynb>data table notebook</a>'\n",
              "            + ' to learn more about interactive tables.';\n",
              "          element.innerHTML = '';\n",
              "          dataTable['output_type'] = 'display_data';\n",
              "          await google.colab.output.renderOutput(dataTable, element);\n",
              "          const docLink = document.createElement('div');\n",
              "          docLink.innerHTML = docLinkHtml;\n",
              "          element.appendChild(docLink);\n",
              "        }\n",
              "      </script>\n",
              "    </div>\n",
              "  </div>\n",
              "  "
            ]
          },
          "metadata": {}
        }
      ],
      "source": [
        "df_raw = pd.read_csv('model_data.csv',index_col=0) #Pandas df_raw is usefull for inspection\n",
        "\n",
        "print('pd dataframe showing the raw data:\\n')\n",
        "display(df_raw)"
      ]
    },
    {
      "cell_type": "markdown",
      "source": [
        "### Plotting the Distributions of Numerical Attributes"
      ],
      "metadata": {
        "id": "QHuqxfUpvEQ8"
      }
    },
    {
      "cell_type": "code",
      "source": [
        "df_raw.hist(bins=50, figsize=(15, 10))"
      ],
      "metadata": {
        "colab": {
          "base_uri": "https://localhost:8080/",
          "height": 836
        },
        "id": "vbrWV-wdUI8F",
        "outputId": "b7f3db5e-8f21-4e40-d8db-4f96c7110764"
      },
      "execution_count": 3,
      "outputs": [
        {
          "output_type": "execute_result",
          "data": {
            "text/plain": [
              "array([[<matplotlib.axes._subplots.AxesSubplot object at 0x7f32e64e9e10>,\n",
              "        <matplotlib.axes._subplots.AxesSubplot object at 0x7f32d0fea390>,\n",
              "        <matplotlib.axes._subplots.AxesSubplot object at 0x7f32d0fa0990>],\n",
              "       [<matplotlib.axes._subplots.AxesSubplot object at 0x7f32d0fd7f90>,\n",
              "        <matplotlib.axes._subplots.AxesSubplot object at 0x7f32d0f9b5d0>,\n",
              "        <matplotlib.axes._subplots.AxesSubplot object at 0x7f32d0f51bd0>],\n",
              "       [<matplotlib.axes._subplots.AxesSubplot object at 0x7f32d0f13210>,\n",
              "        <matplotlib.axes._subplots.AxesSubplot object at 0x7f32d0eca750>,\n",
              "        <matplotlib.axes._subplots.AxesSubplot object at 0x7f32d0eca790>]],\n",
              "      dtype=object)"
            ]
          },
          "metadata": {},
          "execution_count": 3
        },
        {
          "output_type": "display_data",
          "data": {
            "text/plain": [
              "<Figure size 1080x720 with 9 Axes>"
            ],
            "image/png": "[encoded data removed]"
          },
          "metadata": {
            "needs_background": "light"
          }
        }
      ]
    },
    {
      "cell_type": "markdown",
      "metadata": {
        "id": "dT5eBtcKkZTS"
      },
      "source": [
        "### Data Simplification and the Evaluation of the Correlations\n",
        "\n",
        "This section discards the columns not used in our models (text information and weekend_roi) and displays the correlations between the data attribtues and the target column."
      ]
    },
    {
      "cell_type": "code",
      "source": [
        "df = df_raw.copy()[[\"watchtime\",\"budget\",\"weekend_gross_us_canada\",\"vader_sentiment\", \"text_blob_polarity\", \"text_blob_subjectivity\", \"popularity\"]]\n",
        "\n",
        "display(df)"
      ],
      "metadata": {
        "colab": {
          "base_uri": "https://localhost:8080/",
          "height": 483
        },
        "id": "VLJYrT9zWh_Y",
        "outputId": "f3ab47d8-870a-4673-f52f-2540f0cd19f1"
      },
      "execution_count": 4,
      "outputs": [
        {
          "output_type": "display_data",
          "data": {
            "text/plain": [
              "     watchtime       budget  weekend_gross_us_canada  vader_sentiment  \\\n",
              "0        107.0   88000000.0               24632284.0         0.048495   \n",
              "1        161.0   90000000.0               41082018.0         0.115208   \n",
              "2        116.0   50000000.0               11203270.0         0.128721   \n",
              "3        181.0  356000000.0              357115007.0         0.070877   \n",
              "4        121.0   30000000.0                7534673.0         0.001378   \n",
              "..         ...          ...                      ...              ...   \n",
              "582       83.0     350000.0                  68921.0         0.030950   \n",
              "583      100.0    3000000.0                1729535.0         0.033001   \n",
              "584      119.0    2700000.0                1503101.0         0.076392   \n",
              "585      108.0    8000000.0                 700261.0         0.055454   \n",
              "586       95.0    1800000.0                  11218.0        -0.079012   \n",
              "\n",
              "     text_blob_polarity  text_blob_subjectivity  popularity  \n",
              "0              0.062085                0.316292     35577.0  \n",
              "1              0.070464                0.223233      7859.0  \n",
              "2              0.094116                0.376873     37543.0  \n",
              "3              0.050050                0.234112    218147.0  \n",
              "4              0.031974                0.296877    239630.0  \n",
              "..                  ...                     ...         ...  \n",
              "582            0.051804                0.345523      8678.0  \n",
              "583            0.058005                0.342593     23046.0  \n",
              "584            0.090659                0.306311        21.0  \n",
              "585           -0.029009                0.130051        13.0  \n",
              "586            0.033189                0.298083        36.0  \n",
              "\n",
              "[587 rows x 7 columns]"
            ],
            "text/html": [
              "\n",
              "  <div id=\"df-757ddd6d-61e6-468b-8814-091d0050a9f8\">\n",
              "    <div class=\"colab-df-container\">\n",
              "      <div>\n",
              "<style scoped>\n",
              "    .dataframe tbody tr th:only-of-type {\n",
              "        vertical-align: middle;\n",
              "    }\n",
              "\n",
              "    .dataframe tbody tr th {\n",
              "        vertical-align: top;\n",
              "    }\n",
              "\n",
              "    .dataframe thead th {\n",
              "        text-align: right;\n",
              "    }\n",
              "</style>\n",
              "<table border=\"1\" class=\"dataframe\">\n",
              "  <thead>\n",
              "    <tr style=\"text-align: right;\">\n",
              "      <th></th>\n",
              "      <th>watchtime</th>\n",
              "      <th>budget</th>\n",
              "      <th>weekend_gross_us_canada</th>\n",
              "      <th>vader_sentiment</th>\n",
              "      <th>text_blob_polarity</th>\n",
              "      <th>text_blob_subjectivity</th>\n",
              "      <th>popularity</th>\n",
              "    </tr>\n",
              "  </thead>\n",
              "  <tbody>\n",
              "    <tr>\n",
              "      <th>0</th>\n",
              "      <td>107.0</td>\n",
              "      <td>88000000.0</td>\n",
              "      <td>24632284.0</td>\n",
              "      <td>0.048495</td>\n",
              "      <td>0.062085</td>\n",
              "      <td>0.316292</td>\n",
              "      <td>35577.0</td>\n",
              "    </tr>\n",
              "    <tr>\n",
              "      <th>1</th>\n",
              "      <td>161.0</td>\n",
              "      <td>90000000.0</td>\n",
              "      <td>41082018.0</td>\n",
              "      <td>0.115208</td>\n",
              "      <td>0.070464</td>\n",
              "      <td>0.223233</td>\n",
              "      <td>7859.0</td>\n",
              "    </tr>\n",
              "    <tr>\n",
              "      <th>2</th>\n",
              "      <td>116.0</td>\n",
              "      <td>50000000.0</td>\n",
              "      <td>11203270.0</td>\n",
              "      <td>0.128721</td>\n",
              "      <td>0.094116</td>\n",
              "      <td>0.376873</td>\n",
              "      <td>37543.0</td>\n",
              "    </tr>\n",
              "    <tr>\n",
              "      <th>3</th>\n",
              "      <td>181.0</td>\n",
              "      <td>356000000.0</td>\n",
              "      <td>357115007.0</td>\n",
              "      <td>0.070877</td>\n",
              "      <td>0.050050</td>\n",
              "      <td>0.234112</td>\n",
              "      <td>218147.0</td>\n",
              "    </tr>\n",
              "    <tr>\n",
              "      <th>4</th>\n",
              "      <td>121.0</td>\n",
              "      <td>30000000.0</td>\n",
              "      <td>7534673.0</td>\n",
              "      <td>0.001378</td>\n",
              "      <td>0.031974</td>\n",
              "      <td>0.296877</td>\n",
              "      <td>239630.0</td>\n",
              "    </tr>\n",
              "    <tr>\n",
              "      <th>...</th>\n",
              "      <td>...</td>\n",
              "      <td>...</td>\n",
              "      <td>...</td>\n",
              "      <td>...</td>\n",
              "      <td>...</td>\n",
              "      <td>...</td>\n",
              "      <td>...</td>\n",
              "    </tr>\n",
              "    <tr>\n",
              "      <th>582</th>\n",
              "      <td>83.0</td>\n",
              "      <td>350000.0</td>\n",
              "      <td>68921.0</td>\n",
              "      <td>0.030950</td>\n",
              "      <td>0.051804</td>\n",
              "      <td>0.345523</td>\n",
              "      <td>8678.0</td>\n",
              "    </tr>\n",
              "    <tr>\n",
              "      <th>583</th>\n",
              "      <td>100.0</td>\n",
              "      <td>3000000.0</td>\n",
              "      <td>1729535.0</td>\n",
              "      <td>0.033001</td>\n",
              "      <td>0.058005</td>\n",
              "      <td>0.342593</td>\n",
              "      <td>23046.0</td>\n",
              "    </tr>\n",
              "    <tr>\n",
              "      <th>584</th>\n",
              "      <td>119.0</td>\n",
              "      <td>2700000.0</td>\n",
              "      <td>1503101.0</td>\n",
              "      <td>0.076392</td>\n",
              "      <td>0.090659</td>\n",
              "      <td>0.306311</td>\n",
              "      <td>21.0</td>\n",
              "    </tr>\n",
              "    <tr>\n",
              "      <th>585</th>\n",
              "      <td>108.0</td>\n",
              "      <td>8000000.0</td>\n",
              "      <td>700261.0</td>\n",
              "      <td>0.055454</td>\n",
              "      <td>-0.029009</td>\n",
              "      <td>0.130051</td>\n",
              "      <td>13.0</td>\n",
              "    </tr>\n",
              "    <tr>\n",
              "      <th>586</th>\n",
              "      <td>95.0</td>\n",
              "      <td>1800000.0</td>\n",
              "      <td>11218.0</td>\n",
              "      <td>-0.079012</td>\n",
              "      <td>0.033189</td>\n",
              "      <td>0.298083</td>\n",
              "      <td>36.0</td>\n",
              "    </tr>\n",
              "  </tbody>\n",
              "</table>\n",
              "<p>587 rows × 7 columns</p>\n",
              "</div>\n",
              "      <button class=\"colab-df-convert\" onclick=\"convertToInteractive('df-757ddd6d-61e6-468b-8814-091d0050a9f8')\"\n",
              "              title=\"Convert this dataframe to an interactive table.\"\n",
              "              style=\"display:none;\">\n",
              "        \n",
              "  <svg xmlns=\"http://www.w3.org/2000/svg\" height=\"24px\"viewBox=\"0 0 24 24\"\n",
              "       width=\"24px\">\n",
              "    <path d=\"M0 0h24v24H0V0z\" fill=\"none\"/>\n",
              "    <path d=\"M18.56 5.44l.94 2.06.94-2.06 2.06-.94-2.06-.94-.94-2.06-.94 2.06-2.06.94zm-11 1L8.5 8.5l.94-2.06 2.06-.94-2.06-.94L8.5 2.5l-.94 2.06-2.06.94zm10 10l.94 2.06.94-2.06 2.06-.94-2.06-.94-.94-2.06-.94 2.06-2.06.94z\"/><path d=\"M17.41 7.96l-1.37-1.37c-.4-.4-.92-.59-1.43-.59-.52 0-1.04.2-1.43.59L10.3 9.45l-7.72 7.72c-.78.78-.78 2.05 0 2.83L4 21.41c.39.39.9.59 1.41.59.51 0 1.02-.2 1.41-.59l7.78-7.78 2.81-2.81c.8-.78.8-2.07 0-2.86zM5.41 20L4 18.59l7.72-7.72 1.47 1.35L5.41 20z\"/>\n",
              "  </svg>\n",
              "      </button>\n",
              "      \n",
              "  <style>\n",
              "    .colab-df-container {\n",
              "      display:flex;\n",
              "      flex-wrap:wrap;\n",
              "      gap: 12px;\n",
              "    }\n",
              "\n",
              "    .colab-df-convert {\n",
              "      background-color: #E8F0FE;\n",
              "      border: none;\n",
              "      border-radius: 50%;\n",
              "      cursor: pointer;\n",
              "      display: none;\n",
              "      fill: #1967D2;\n",
              "      height: 32px;\n",
              "      padding: 0 0 0 0;\n",
              "      width: 32px;\n",
              "    }\n",
              "\n",
              "    .colab-df-convert:hover {\n",
              "      background-color: #E2EBFA;\n",
              "      box-shadow: 0px 1px 2px rgba(60, 64, 67, 0.3), 0px 1px 3px 1px rgba(60, 64, 67, 0.15);\n",
              "      fill: #174EA6;\n",
              "    }\n",
              "\n",
              "    [theme=dark] .colab-df-convert {\n",
              "      background-color: #3B4455;\n",
              "      fill: #D2E3FC;\n",
              "    }\n",
              "\n",
              "    [theme=dark] .colab-df-convert:hover {\n",
              "      background-color: #434B5C;\n",
              "      box-shadow: 0px 1px 3px 1px rgba(0, 0, 0, 0.15);\n",
              "      filter: drop-shadow(0px 1px 2px rgba(0, 0, 0, 0.3));\n",
              "      fill: #FFFFFF;\n",
              "    }\n",
              "  </style>\n",
              "\n",
              "      <script>\n",
              "        const buttonEl =\n",
              "          document.querySelector('#df-757ddd6d-61e6-468b-8814-091d0050a9f8 button.colab-df-convert');\n",
              "        buttonEl.style.display =\n",
              "          google.colab.kernel.accessAllowed ? 'block' : 'none';\n",
              "\n",
              "        async function convertToInteractive(key) {\n",
              "          const element = document.querySelector('#df-757ddd6d-61e6-468b-8814-091d0050a9f8');\n",
              "          const dataTable =\n",
              "            await google.colab.kernel.invokeFunction('convertToInteractive',\n",
              "                                                     [key], {});\n",
              "          if (!dataTable) return;\n",
              "\n",
              "          const docLinkHtml = 'Like what you see? Visit the ' +\n",
              "            '<a target=\"_blank\" href=https://colab.research.google.com/notebooks/data_table.ipynb>data table notebook</a>'\n",
              "            + ' to learn more about interactive tables.';\n",
              "          element.innerHTML = '';\n",
              "          dataTable['output_type'] = 'display_data';\n",
              "          await google.colab.output.renderOutput(dataTable, element);\n",
              "          const docLink = document.createElement('div');\n",
              "          docLink.innerHTML = docLinkHtml;\n",
              "          element.appendChild(docLink);\n",
              "        }\n",
              "      </script>\n",
              "    </div>\n",
              "  </div>\n",
              "  "
            ]
          },
          "metadata": {}
        }
      ]
    },
    {
      "cell_type": "code",
      "execution_count": 5,
      "metadata": {
        "colab": {
          "base_uri": "https://localhost:8080/"
        },
        "id": "nMFbAC6XkZTS",
        "outputId": "21211288-75e0-4c1a-8793-5abac2599783"
      },
      "outputs": [
        {
          "output_type": "execute_result",
          "data": {
            "text/plain": [
              "watchtime                  0.333539\n",
              "budget                     0.772011\n",
              "weekend_gross_us_canada    1.000000\n",
              "vader_sentiment           -0.079474\n",
              "text_blob_polarity        -0.026922\n",
              "text_blob_subjectivity    -0.101486\n",
              "popularity                 0.207180\n",
              "Name: weekend_gross_us_canada, dtype: float64"
            ]
          },
          "metadata": {},
          "execution_count": 5
        }
      ],
      "source": [
        "df.corr()[\"weekend_gross_us_canada\"]"
      ]
    },
    {
      "cell_type": "code",
      "source": [
        "df.corr(\"spearman\")[\"weekend_gross_us_canada\"]"
      ],
      "metadata": {
        "colab": {
          "base_uri": "https://localhost:8080/"
        },
        "id": "go7EwFwCl2ZH",
        "outputId": "a920255f-67cb-4daf-ef2b-9e2aad4052d6"
      },
      "execution_count": 6,
      "outputs": [
        {
          "output_type": "execute_result",
          "data": {
            "text/plain": [
              "watchtime                  0.176596\n",
              "budget                     0.689901\n",
              "weekend_gross_us_canada    1.000000\n",
              "vader_sentiment            0.031362\n",
              "text_blob_polarity        -0.003294\n",
              "text_blob_subjectivity    -0.181848\n",
              "popularity                 0.197747\n",
              "Name: weekend_gross_us_canada, dtype: float64"
            ]
          },
          "metadata": {},
          "execution_count": 6
        }
      ]
    },
    {
      "cell_type": "markdown",
      "source": [
        "As we can see, movie budget is strongly correlated with the openning weekend gross values. Movie run time (stored in the watchtime column) and popularity score (stored in the popularity column) attributes also show some positive correlation with weekend gross."
      ],
      "metadata": {
        "id": "OsIo_IF1vxy4"
      }
    },
    {
      "cell_type": "markdown",
      "source": [
        "## Modeling Without Clustering\n",
        "\n",
        "This section trains models without utilizing clustering - using different combinations of attributes in the data to evaluate the predictive power of different models and feature sets."
      ],
      "metadata": {
        "id": "lVe2dbgI1UHT"
      }
    },
    {
      "cell_type": "code",
      "execution_count": 7,
      "metadata": {
        "scrolled": false,
        "colab": {
          "base_uri": "https://localhost:8080/",
          "height": 453
        },
        "id": "Lwa-1UU3kZTU",
        "outputId": "caa4d4b7-aed7-4d96-dd50-8dd5333a84cc"
      },
      "outputs": [
        {
          "output_type": "stream",
          "name": "stdout",
          "text": [
            "Data that will be used in our models for this question:\n",
            "\n"
          ]
        },
        {
          "output_type": "display_data",
          "data": {
            "text/plain": [
              "     watchtime    budget  vader_sentiment  text_blob_polarity  \\\n",
              "0    -0.234676  0.625547         0.016489           -0.074470   \n",
              "1     3.045198  0.659084         0.476087            0.014746   \n",
              "2     0.311970 -0.011653         0.569180            0.266598   \n",
              "3     4.259966  5.119487         0.170684           -0.202622   \n",
              "4     0.615662 -0.347022        -0.308109           -0.395103   \n",
              "..         ...       ...              ...                 ...   \n",
              "582  -1.692397 -0.844206        -0.104380           -0.183946   \n",
              "583  -0.659845 -0.799769        -0.090255           -0.117914   \n",
              "584   0.494185 -0.804800         0.208679            0.229792   \n",
              "585  -0.173937 -0.715927         0.064432           -1.044455   \n",
              "586  -0.963537 -0.819891        -0.861933           -0.382167   \n",
              "\n",
              "     text_blob_subjectivity  popularity  weekend_gross_us_canada  \n",
              "0                 -0.086843    0.532495               24632284.0  \n",
              "1                 -0.993422   -0.204574               41082018.0  \n",
              "2                  0.503341    0.584774               11203270.0  \n",
              "3                 -0.887433    5.387346              357115007.0  \n",
              "4                 -0.275984    5.958616                7534673.0  \n",
              "..                      ...         ...                      ...  \n",
              "582                0.197926   -0.182796                  68921.0  \n",
              "583                0.169383    0.199274                1729535.0  \n",
              "584               -0.184074   -0.413000                1503101.0  \n",
              "585               -1.901204   -0.413213                 700261.0  \n",
              "586               -0.264235   -0.412601                  11218.0  \n",
              "\n",
              "[587 rows x 7 columns]"
            ],
            "text/html": [
              "\n",
              "  <div id=\"df-b85ed082-0398-400d-922e-8f13d293415f\">\n",
              "    <div class=\"colab-df-container\">\n",
              "      <div>\n",
              "<style scoped>\n",
              "    .dataframe tbody tr th:only-of-type {\n",
              "        vertical-align: middle;\n",
              "    }\n",
              "\n",
              "    .dataframe tbody tr th {\n",
              "        vertical-align: top;\n",
              "    }\n",
              "\n",
              "    .dataframe thead th {\n",
              "        text-align: right;\n",
              "    }\n",
              "</style>\n",
              "<table border=\"1\" class=\"dataframe\">\n",
              "  <thead>\n",
              "    <tr style=\"text-align: right;\">\n",
              "      <th></th>\n",
              "      <th>watchtime</th>\n",
              "      <th>budget</th>\n",
              "      <th>vader_sentiment</th>\n",
              "      <th>text_blob_polarity</th>\n",
              "      <th>text_blob_subjectivity</th>\n",
              "      <th>popularity</th>\n",
              "      <th>weekend_gross_us_canada</th>\n",
              "    </tr>\n",
              "  </thead>\n",
              "  <tbody>\n",
              "    <tr>\n",
              "      <th>0</th>\n",
              "      <td>-0.234676</td>\n",
              "      <td>0.625547</td>\n",
              "      <td>0.016489</td>\n",
              "      <td>-0.074470</td>\n",
              "      <td>-0.086843</td>\n",
              "      <td>0.532495</td>\n",
              "      <td>24632284.0</td>\n",
              "    </tr>\n",
              "    <tr>\n",
              "      <th>1</th>\n",
              "      <td>3.045198</td>\n",
              "      <td>0.659084</td>\n",
              "      <td>0.476087</td>\n",
              "      <td>0.014746</td>\n",
              "      <td>-0.993422</td>\n",
              "      <td>-0.204574</td>\n",
              "      <td>41082018.0</td>\n",
              "    </tr>\n",
              "    <tr>\n",
              "      <th>2</th>\n",
              "      <td>0.311970</td>\n",
              "      <td>-0.011653</td>\n",
              "      <td>0.569180</td>\n",
              "      <td>0.266598</td>\n",
              "      <td>0.503341</td>\n",
              "      <td>0.584774</td>\n",
              "      <td>11203270.0</td>\n",
              "    </tr>\n",
              "    <tr>\n",
              "      <th>3</th>\n",
              "      <td>4.259966</td>\n",
              "      <td>5.119487</td>\n",
              "      <td>0.170684</td>\n",
              "      <td>-0.202622</td>\n",
              "      <td>-0.887433</td>\n",
              "      <td>5.387346</td>\n",
              "      <td>357115007.0</td>\n",
              "    </tr>\n",
              "    <tr>\n",
              "      <th>4</th>\n",
              "      <td>0.615662</td>\n",
              "      <td>-0.347022</td>\n",
              "      <td>-0.308109</td>\n",
              "      <td>-0.395103</td>\n",
              "      <td>-0.275984</td>\n",
              "      <td>5.958616</td>\n",
              "      <td>7534673.0</td>\n",
              "    </tr>\n",
              "    <tr>\n",
              "      <th>...</th>\n",
              "      <td>...</td>\n",
              "      <td>...</td>\n",
              "      <td>...</td>\n",
              "      <td>...</td>\n",
              "      <td>...</td>\n",
              "      <td>...</td>\n",
              "      <td>...</td>\n",
              "    </tr>\n",
              "    <tr>\n",
              "      <th>582</th>\n",
              "      <td>-1.692397</td>\n",
              "      <td>-0.844206</td>\n",
              "      <td>-0.104380</td>\n",
              "      <td>-0.183946</td>\n",
              "      <td>0.197926</td>\n",
              "      <td>-0.182796</td>\n",
              "      <td>68921.0</td>\n",
              "    </tr>\n",
              "    <tr>\n",
              "      <th>583</th>\n",
              "      <td>-0.659845</td>\n",
              "      <td>-0.799769</td>\n",
              "      <td>-0.090255</td>\n",
              "      <td>-0.117914</td>\n",
              "      <td>0.169383</td>\n",
              "      <td>0.199274</td>\n",
              "      <td>1729535.0</td>\n",
              "    </tr>\n",
              "    <tr>\n",
              "      <th>584</th>\n",
              "      <td>0.494185</td>\n",
              "      <td>-0.804800</td>\n",
              "      <td>0.208679</td>\n",
              "      <td>0.229792</td>\n",
              "      <td>-0.184074</td>\n",
              "      <td>-0.413000</td>\n",
              "      <td>1503101.0</td>\n",
              "    </tr>\n",
              "    <tr>\n",
              "      <th>585</th>\n",
              "      <td>-0.173937</td>\n",
              "      <td>-0.715927</td>\n",
              "      <td>0.064432</td>\n",
              "      <td>-1.044455</td>\n",
              "      <td>-1.901204</td>\n",
              "      <td>-0.413213</td>\n",
              "      <td>700261.0</td>\n",
              "    </tr>\n",
              "    <tr>\n",
              "      <th>586</th>\n",
              "      <td>-0.963537</td>\n",
              "      <td>-0.819891</td>\n",
              "      <td>-0.861933</td>\n",
              "      <td>-0.382167</td>\n",
              "      <td>-0.264235</td>\n",
              "      <td>-0.412601</td>\n",
              "      <td>11218.0</td>\n",
              "    </tr>\n",
              "  </tbody>\n",
              "</table>\n",
              "<p>587 rows × 7 columns</p>\n",
              "</div>\n",
              "      <button class=\"colab-df-convert\" onclick=\"convertToInteractive('df-b85ed082-0398-400d-922e-8f13d293415f')\"\n",
              "              title=\"Convert this dataframe to an interactive table.\"\n",
              "              style=\"display:none;\">\n",
              "        \n",
              "  <svg xmlns=\"http://www.w3.org/2000/svg\" height=\"24px\"viewBox=\"0 0 24 24\"\n",
              "       width=\"24px\">\n",
              "    <path d=\"M0 0h24v24H0V0z\" fill=\"none\"/>\n",
              "    <path d=\"M18.56 5.44l.94 2.06.94-2.06 2.06-.94-2.06-.94-.94-2.06-.94 2.06-2.06.94zm-11 1L8.5 8.5l.94-2.06 2.06-.94-2.06-.94L8.5 2.5l-.94 2.06-2.06.94zm10 10l.94 2.06.94-2.06 2.06-.94-2.06-.94-.94-2.06-.94 2.06-2.06.94z\"/><path d=\"M17.41 7.96l-1.37-1.37c-.4-.4-.92-.59-1.43-.59-.52 0-1.04.2-1.43.59L10.3 9.45l-7.72 7.72c-.78.78-.78 2.05 0 2.83L4 21.41c.39.39.9.59 1.41.59.51 0 1.02-.2 1.41-.59l7.78-7.78 2.81-2.81c.8-.78.8-2.07 0-2.86zM5.41 20L4 18.59l7.72-7.72 1.47 1.35L5.41 20z\"/>\n",
              "  </svg>\n",
              "      </button>\n",
              "      \n",
              "  <style>\n",
              "    .colab-df-container {\n",
              "      display:flex;\n",
              "      flex-wrap:wrap;\n",
              "      gap: 12px;\n",
              "    }\n",
              "\n",
              "    .colab-df-convert {\n",
              "      background-color: #E8F0FE;\n",
              "      border: none;\n",
              "      border-radius: 50%;\n",
              "      cursor: pointer;\n",
              "      display: none;\n",
              "      fill: #1967D2;\n",
              "      height: 32px;\n",
              "      padding: 0 0 0 0;\n",
              "      width: 32px;\n",
              "    }\n",
              "\n",
              "    .colab-df-convert:hover {\n",
              "      background-color: #E2EBFA;\n",
              "      box-shadow: 0px 1px 2px rgba(60, 64, 67, 0.3), 0px 1px 3px 1px rgba(60, 64, 67, 0.15);\n",
              "      fill: #174EA6;\n",
              "    }\n",
              "\n",
              "    [theme=dark] .colab-df-convert {\n",
              "      background-color: #3B4455;\n",
              "      fill: #D2E3FC;\n",
              "    }\n",
              "\n",
              "    [theme=dark] .colab-df-convert:hover {\n",
              "      background-color: #434B5C;\n",
              "      box-shadow: 0px 1px 3px 1px rgba(0, 0, 0, 0.15);\n",
              "      filter: drop-shadow(0px 1px 2px rgba(0, 0, 0, 0.3));\n",
              "      fill: #FFFFFF;\n",
              "    }\n",
              "  </style>\n",
              "\n",
              "      <script>\n",
              "        const buttonEl =\n",
              "          document.querySelector('#df-b85ed082-0398-400d-922e-8f13d293415f button.colab-df-convert');\n",
              "        buttonEl.style.display =\n",
              "          google.colab.kernel.accessAllowed ? 'block' : 'none';\n",
              "\n",
              "        async function convertToInteractive(key) {\n",
              "          const element = document.querySelector('#df-b85ed082-0398-400d-922e-8f13d293415f');\n",
              "          const dataTable =\n",
              "            await google.colab.kernel.invokeFunction('convertToInteractive',\n",
              "                                                     [key], {});\n",
              "          if (!dataTable) return;\n",
              "\n",
              "          const docLinkHtml = 'Like what you see? Visit the ' +\n",
              "            '<a target=\"_blank\" href=https://colab.research.google.com/notebooks/data_table.ipynb>data table notebook</a>'\n",
              "            + ' to learn more about interactive tables.';\n",
              "          element.innerHTML = '';\n",
              "          dataTable['output_type'] = 'display_data';\n",
              "          await google.colab.output.renderOutput(dataTable, element);\n",
              "          const docLink = document.createElement('div');\n",
              "          docLink.innerHTML = docLinkHtml;\n",
              "          element.appendChild(docLink);\n",
              "        }\n",
              "      </script>\n",
              "    </div>\n",
              "  </div>\n",
              "  "
            ]
          },
          "metadata": {}
        }
      ],
      "source": [
        "data = df[[\"watchtime\",\"budget\",\"vader_sentiment\", \"text_blob_polarity\", \"text_blob_subjectivity\", \"popularity\", \"weekend_gross_us_canada\"]].copy()\n",
        "\n",
        "#Normalize the features\n",
        "for column in data.columns:\n",
        "    if column != \"weekend_gross_us_canada\":\n",
        "        data[column] = (data[column] - np.mean(data[column], axis=0))/np.std(data[column], axis=0)\n",
        "\n",
        "#To be used for our models:\n",
        "x_cols_meta = [\"watchtime\",\"budget\"]\n",
        "x_cols_pop = [\"watchtime\",\"budget\",\"popularity\"]\n",
        "x_cols_pop_vader = [\"watchtime\",\"budget\",\"popularity\",\"vader_sentiment\"]\n",
        "x_cols_pop_blob = [\"watchtime\",\"budget\",\"popularity\",\"text_blob_polarity\", \"text_blob_subjectivity\"]\n",
        "\n",
        "y_col = \"weekend_gross_us_canada\"\n",
        "\n",
        "cols = [\"watchtime\",\"budget\",\"popularity\", \"vader_sentiment\", \"text_blob_polarity\", \"text_blob_subjectivity\", \"weekend_gross_us_canada\"]\n",
        "\n",
        "print('Data that will be used in our models for this question:\\n')\n",
        "display(data)"
      ]
    },
    {
      "cell_type": "markdown",
      "metadata": {
        "id": "aNpbIGmokZTU"
      },
      "source": [
        "Now, we can build our models."
      ]
    },
    {
      "cell_type": "markdown",
      "source": [
        "### Define the Generalized Functions for the Training and Evaluation of Models"
      ],
      "metadata": {
        "id": "6znIGz2eFkLc"
      }
    },
    {
      "cell_type": "code",
      "source": [
        "def predict(data_train, data_test, x_cols, y_col, model_cons_func):\n",
        "  data_train = data_train.copy()\n",
        "  data_test = data_test.copy()\n",
        "\n",
        "  X_train = (data_train[x_cols]).to_numpy()\n",
        "  X_test = (data_test[x_cols]).to_numpy()\n",
        "  y_train = (data_train[y_col]).to_numpy()\n",
        "  y_test = (data_test[y_col]).to_numpy()\n",
        "\n",
        "  model = model_cons_func().fit(X_train,y_train)\n",
        "  rSqr = model.score(X_test,y_test)\n",
        "  #error = metrics.mean_squared_error(y_test,model.predict(X_test))\n",
        "\n",
        "  return(rSqr)\n",
        "\n",
        "#Here, we run k-fold cross vlaidation multiple times\n",
        "#and report the average of the \"average score in between the folds\"\n",
        "#as well as the standard deviaton of such averages\n",
        "\n",
        "#This approach largely stableizes the results.\n",
        "#Hovever, general variability between runs with different random states should be noted.\n",
        "#This is likely the result of the limited size of the dataset.\n",
        "\n",
        "def k_fold_predict(data, x_cols, y_col, model_cons_func, n_folds = 5, n_repeats = 20):\n",
        "  scores = [] #Average fold scores of each different run of k-fold cross-validation\n",
        "  for i in range(0,n_repeats):\n",
        "    data = data.copy()\n",
        "    kf = KFold(n_splits=n_folds, shuffle = True)\n",
        "    kf.get_n_splits(data)\n",
        "\n",
        "    scores_iter = [] #Scores in each step of a single k-fold cross-validation\n",
        "    for train_index, test_index in kf.split(data):\n",
        "      data_train_k, data_test_k = data.iloc[train_index], data.iloc[test_index]\n",
        "      scores_iter.append(predict(data_train_k, data_test_k, x_cols, y_col, model_cons_func))\n",
        "\n",
        "    mean_score_iter = mean(scores_iter) #Mean score over the k folds\n",
        "    scores.append(mean_score_iter)\n",
        "\n",
        "  mean_score = mean(scores)\n",
        "  score_std = stdev(scores)\n",
        "\n",
        "  print('mean_score =',mean_score) #Average of all k-fold cross-validation averages\n",
        "  print('score_std =',score_std) #Standard deviation of all k-fold cross-validationaverages\n",
        "  print('')"
      ],
      "metadata": {
        "id": "B-IHntV1Fxq2"
      },
      "execution_count": 8,
      "outputs": []
    },
    {
      "cell_type": "markdown",
      "source": [
        "### Train and Test Models"
      ],
      "metadata": {
        "id": "wI9PegebW-mY"
      }
    },
    {
      "cell_type": "markdown",
      "source": [
        "#### Modeling with just metadata"
      ],
      "metadata": {
        "id": "_OsJiSkxOE81"
      }
    },
    {
      "cell_type": "code",
      "source": [
        "k_fold_predict(data, x_cols_meta, y_col, LinearRegression)"
      ],
      "metadata": {
        "colab": {
          "base_uri": "https://localhost:8080/"
        },
        "id": "4k9pdGp3OMYZ",
        "outputId": "93728f03-d939-4716-b87c-c893f2fe00b1"
      },
      "execution_count": 55,
      "outputs": [
        {
          "output_type": "stream",
          "name": "stdout",
          "text": [
            "mean_score = 0.5470919713678847\n",
            "score_std = 0.043080836565836264\n",
            "\n"
          ]
        }
      ]
    },
    {
      "cell_type": "code",
      "source": [
        "k_fold_predict(data, x_cols_meta, y_col, RandomForestRegressor)"
      ],
      "metadata": {
        "colab": {
          "base_uri": "https://localhost:8080/"
        },
        "id": "-Tnixl_2OQJf",
        "outputId": "37409daf-27e6-404b-ca4c-66f1c59a7769"
      },
      "execution_count": 10,
      "outputs": [
        {
          "output_type": "stream",
          "name": "stdout",
          "text": [
            "mean_score = 0.4697154199801733\n",
            "score_std = 0.05716960258118694\n",
            "\n"
          ]
        }
      ]
    },
    {
      "cell_type": "code",
      "source": [
        "k_fold_predict(data, x_cols_meta, y_col, AdaBoostRegressor)"
      ],
      "metadata": {
        "colab": {
          "base_uri": "https://localhost:8080/"
        },
        "id": "0_Fm8e4XOQ1-",
        "outputId": "075f79d4-7005-4430-c2c9-be9e8ef2e69c"
      },
      "execution_count": 11,
      "outputs": [
        {
          "output_type": "stream",
          "name": "stdout",
          "text": [
            "mean_score = 0.5151085054572758\n",
            "score_std = 0.07025468078320864\n",
            "\n"
          ]
        }
      ]
    },
    {
      "cell_type": "markdown",
      "source": [
        "#### Modeling with metadata + population"
      ],
      "metadata": {
        "id": "w191yaG4OGM5"
      }
    },
    {
      "cell_type": "code",
      "source": [
        "k_fold_predict(data, x_cols_pop, y_col, LinearRegression)"
      ],
      "metadata": {
        "colab": {
          "base_uri": "https://localhost:8080/"
        },
        "id": "-iRy_fqSOZje",
        "outputId": "8f669258-45b2-444f-ec84-7b1fd5564c47"
      },
      "execution_count": 12,
      "outputs": [
        {
          "output_type": "stream",
          "name": "stdout",
          "text": [
            "mean_score = 0.5660661066074723\n",
            "score_std = 0.022061575324429476\n",
            "\n"
          ]
        }
      ]
    },
    {
      "cell_type": "code",
      "source": [
        "k_fold_predict(data, x_cols_pop, y_col, RandomForestRegressor)"
      ],
      "metadata": {
        "colab": {
          "base_uri": "https://localhost:8080/"
        },
        "id": "A0fMHduWOZjh",
        "outputId": "069cd6c7-f305-4378-a1fa-0f51f267803e"
      },
      "execution_count": 13,
      "outputs": [
        {
          "output_type": "stream",
          "name": "stdout",
          "text": [
            "mean_score = 0.5957599592006799\n",
            "score_std = 0.04163540204310178\n",
            "\n"
          ]
        }
      ]
    },
    {
      "cell_type": "code",
      "source": [
        "k_fold_predict(data, x_cols_pop, y_col, AdaBoostRegressor)"
      ],
      "metadata": {
        "colab": {
          "base_uri": "https://localhost:8080/"
        },
        "id": "XvmtdyXSOZjh",
        "outputId": "106a9262-f664-4a27-dce0-bb5223f07537"
      },
      "execution_count": 14,
      "outputs": [
        {
          "output_type": "stream",
          "name": "stdout",
          "text": [
            "mean_score = 0.5453419633052093\n",
            "score_std = 0.05157847057343988\n",
            "\n"
          ]
        }
      ]
    },
    {
      "cell_type": "markdown",
      "source": [
        "#### Modeling with metadata + population + VADER sentiment\n"
      ],
      "metadata": {
        "id": "ihi9g4C-OIIC"
      }
    },
    {
      "cell_type": "code",
      "source": [
        "k_fold_predict(data, x_cols_pop_vader, y_col, LinearRegression)"
      ],
      "metadata": {
        "colab": {
          "base_uri": "https://localhost:8080/"
        },
        "id": "MIooqtroOaDL",
        "outputId": "ca3a1a3e-750a-4b1a-ae42-320fe54a95b1"
      },
      "execution_count": 15,
      "outputs": [
        {
          "output_type": "stream",
          "name": "stdout",
          "text": [
            "mean_score = 0.5656359577367643\n",
            "score_std = 0.023211410326427095\n",
            "\n"
          ]
        }
      ]
    },
    {
      "cell_type": "code",
      "source": [
        "k_fold_predict(data, x_cols_pop_vader, y_col, RandomForestRegressor)"
      ],
      "metadata": {
        "colab": {
          "base_uri": "https://localhost:8080/"
        },
        "id": "UuGoXqPtOaDN",
        "outputId": "8bc5c0a1-1392-4353-964c-71a975a7ee23"
      },
      "execution_count": 16,
      "outputs": [
        {
          "output_type": "stream",
          "name": "stdout",
          "text": [
            "mean_score = 0.6059709988654756\n",
            "score_std = 0.039818596756953754\n",
            "\n"
          ]
        }
      ]
    },
    {
      "cell_type": "code",
      "source": [
        "k_fold_predict(data, x_cols_pop_vader, y_col, AdaBoostRegressor)"
      ],
      "metadata": {
        "colab": {
          "base_uri": "https://localhost:8080/"
        },
        "id": "LxOXBSWAOaDN",
        "outputId": "26e42331-8612-4e36-891f-1fb19dfabf0f"
      },
      "execution_count": 17,
      "outputs": [
        {
          "output_type": "stream",
          "name": "stdout",
          "text": [
            "mean_score = 0.5098132949897886\n",
            "score_std = 0.05618259621602384\n",
            "\n"
          ]
        }
      ]
    },
    {
      "cell_type": "markdown",
      "source": [
        "#### Modeling with metadata + population + TextBlob sentiment"
      ],
      "metadata": {
        "id": "uNfrCzu7OKM-"
      }
    },
    {
      "cell_type": "code",
      "source": [
        "k_fold_predict(data, x_cols_pop_blob, y_col, LinearRegression)"
      ],
      "metadata": {
        "colab": {
          "base_uri": "https://localhost:8080/"
        },
        "id": "5rO5vXe-OaeA",
        "outputId": "e242f7d0-3e8f-41e6-e525-f9745c0d7f8b"
      },
      "execution_count": 18,
      "outputs": [
        {
          "output_type": "stream",
          "name": "stdout",
          "text": [
            "mean_score = 0.5516019465955726\n",
            "score_std = 0.033891940995118136\n",
            "\n"
          ]
        }
      ]
    },
    {
      "cell_type": "code",
      "source": [
        "k_fold_predict(data, x_cols_pop_blob, y_col, RandomForestRegressor)"
      ],
      "metadata": {
        "colab": {
          "base_uri": "https://localhost:8080/"
        },
        "id": "84DsFbJ8OaeA",
        "outputId": "506e28ea-402f-436e-efa0-6cb22d39c548"
      },
      "execution_count": 19,
      "outputs": [
        {
          "output_type": "stream",
          "name": "stdout",
          "text": [
            "mean_score = 0.6034296148749156\n",
            "score_std = 0.02842537990695004\n",
            "\n"
          ]
        }
      ]
    },
    {
      "cell_type": "code",
      "source": [
        "k_fold_predict(data, x_cols_pop_blob, y_col, AdaBoostRegressor)"
      ],
      "metadata": {
        "colab": {
          "base_uri": "https://localhost:8080/"
        },
        "id": "F7b0CFw6OaeB",
        "outputId": "f099aa6c-e014-40c1-cc82-5e458e44367c"
      },
      "execution_count": 20,
      "outputs": [
        {
          "output_type": "stream",
          "name": "stdout",
          "text": [
            "mean_score = 0.4889647217906388\n",
            "score_std = 0.05601139759332414\n",
            "\n"
          ]
        }
      ]
    },
    {
      "cell_type": "markdown",
      "metadata": {
        "id": "n0OEQKe7BeGg"
      },
      "source": [
        "### Visualizing the Results of an Example Random Forest Regression Model:\n",
        "\n"
      ]
    },
    {
      "cell_type": "code",
      "source": [
        "def RFR_Plot(data):\n",
        "  rSqrList = []\n",
        "  errorList = []\n",
        "  betasList = []\n",
        "  data_train, data_test = train_test_split(data, test_size=0.2)\n",
        "  cols = data_train.iloc[:,:-1].columns\n",
        "  X_train = data_train.iloc[:,:-1].to_numpy()\n",
        "  X_test = data_test.iloc[:,:-1].to_numpy()\n",
        "  y_train = data_train.iloc[:,-1]\n",
        "  y_test = data_test.iloc[:,-1]\n",
        "\n",
        "  model = RandomForestRegressor(n_estimators=100).fit(X_train,y_train)\n",
        "  rSqr = model.score(X_test,y_test)\n",
        "  error = metrics.mean_squared_error(y_test,model.predict(X_test))\n",
        "\n",
        "  # Visualize: actual vs. predicted total (normalized) yearly compensation (from model)\n",
        "  yHat = model.predict(X_test)\n",
        "  plt.plot(yHat,y_test,'o',markersize=.75) \n",
        "  plt.xlabel('Prediction from model') \n",
        "  plt.ylabel('Actual total yearly compensation')  \n",
        "  plt.title('R^2 = {:.4f}    |    RMSE = {:e}\\n'.format(rSqr, error))\n",
        "  plt.plot([0, 220000000], [0, 220000000])\n"
      ],
      "metadata": {
        "id": "FvRofhxpBeGo"
      },
      "execution_count": 21,
      "outputs": []
    },
    {
      "cell_type": "markdown",
      "source": [
        "Plotting an example Random Forest Regressor result for reference here (as this model/attribute set combination provided the best results for us):"
      ],
      "metadata": {
        "id": "iv_CrXYU1kSR"
      }
    },
    {
      "cell_type": "code",
      "source": [
        "data_meta_pop_vader = data[x_cols_pop_vader + [y_col]].copy()\n",
        "RFR_Plot(data_meta_pop_vader)"
      ],
      "metadata": {
        "colab": {
          "base_uri": "https://localhost:8080/",
          "height": 310
        },
        "id": "8pIjhfLg39h0",
        "outputId": "4e22167e-1647-4c03-979c-2a474fb88455"
      },
      "execution_count": 23,
      "outputs": [
        {
          "output_type": "display_data",
          "data": {
            "text/plain": [
              "<Figure size 432x288 with 1 Axes>"
            ],
            "image/png": "[encoded data removed]"
          },
          "metadata": {
            "needs_background": "light"
          }
        }
      ]
    },
    {
      "cell_type": "markdown",
      "source": [
        "Please note that the performence of this single model is likely to change a lot between runs, and is only provided as an example."
      ],
      "metadata": {
        "id": "AAojVQVOQ-FY"
      }
    },
    {
      "cell_type": "markdown",
      "source": [
        "## Exploration of Clustering\n",
        "\n",
        "This section contains code that plots the data on scatter plots in which information that is relevant to the possibility of using clustering to improve results in marked.\n",
        "\n",
        "Here, VADER sentiment information is used alongside metadata and popularity scores, while text_blob sentiment information is left out. We made this choice to illustrate the case with different numbers of clusters for a possible set of attributes. Similar results were observed for other combinations of features as well.\n"
      ],
      "metadata": {
        "id": "36-vg7a2mEa8"
      }
    },
    {
      "cell_type": "code",
      "source": [
        "x_cols = [\"watchtime\",\"budget\",\"vader_sentiment\", \"popularity\"] #\"text_blob_polarity\", \"text_blob_subjectivity\", \n",
        "y_col = \"weekend_gross_us_canada\"\n",
        "cols = x_cols + [y_col] \n",
        "\n",
        "data = df[cols].copy()"
      ],
      "metadata": {
        "id": "vCtxPJZ71j_N"
      },
      "execution_count": 24,
      "outputs": []
    },
    {
      "cell_type": "code",
      "source": [
        "scaler = StandardScaler()\n",
        "data[x_cols] = scaler.fit_transform(data[x_cols])"
      ],
      "metadata": {
        "id": "E6a5ivbF4JgJ"
      },
      "execution_count": 25,
      "outputs": []
    },
    {
      "cell_type": "code",
      "source": [
        "X = data[x_cols]\n",
        "y = data[y_col]"
      ],
      "metadata": {
        "id": "JVXln3EVB3aR"
      },
      "execution_count": 26,
      "outputs": []
    },
    {
      "cell_type": "markdown",
      "source": [
        "### Here, we can see the highest-grossing movies on the opening weekend (movies with a US/Canada opening weekend gross of 100,000,000 USD or more) on a scatter-plot with axes for budget and watch time:"
      ],
      "metadata": {
        "id": "4gqYx24i2UI_"
      }
    },
    {
      "cell_type": "code",
      "source": [
        "def getColor(x):\n",
        "  if (x > 1e8):\n",
        "    return 'r'\n",
        "  else:\n",
        "    return 'g'\n",
        "\n",
        "data[\"color\"] = data[\"weekend_gross_us_canada\"].apply(getColor)\n",
        "data.plot.scatter(x='budget', y='watchtime', c='color')"
      ],
      "metadata": {
        "colab": {
          "base_uri": "https://localhost:8080/",
          "height": 105
        },
        "id": "Vt0NlGJV599I",
        "outputId": "9d66e2b6-a1fd-428d-cace-d90c26254b95"
      },
      "execution_count": 27,
      "outputs": [
        {
          "output_type": "execute_result",
          "data": {
            "text/plain": [
              "<matplotlib.axes._subplots.AxesSubplot at 0x7f32d0cf9d10>"
            ]
          },
          "metadata": {},
          "execution_count": 27
        },
        {
          "output_type": "display_data",
          "data": {
            "text/plain": [
              "<Figure size 432x288 with 1 Axes>"
            ],
            "image/png": "[encoded data removed]"
          },
          "metadata": {
            "needs_background": "light"
          }
        }
      ]
    },
    {
      "cell_type": "markdown",
      "source": [
        "### Here, we see the resulting clusters from applying the k-means algorithm with k=2 (without using the target attribute) on a scatter-plot with axes for budget and watch time:\n",
        "\n",
        "With this, we can argue that there is a possibility of having different optimal models in each cluster."
      ],
      "metadata": {
        "id": "rt-TrSyI3AoJ"
      }
    },
    {
      "cell_type": "code",
      "source": [
        "kmeans = KMeans(2)\n",
        "data['kmeans_cluster'] = kmeans.fit_predict(X)"
      ],
      "metadata": {
        "id": "qjT4iCLH6pEv"
      },
      "execution_count": 28,
      "outputs": []
    },
    {
      "cell_type": "code",
      "source": [
        "def getColor(x):\n",
        "  if (x == 0):\n",
        "    return 'r'\n",
        "  elif (x==1):\n",
        "    return 'b'\n",
        "  else:\n",
        "    return 'g'\n",
        "\n",
        "data[\"color\"] = data[\"kmeans_cluster\"].apply(getColor)\n",
        "data.plot.scatter(x='budget', y='watchtime', c='color')"
      ],
      "metadata": {
        "colab": {
          "base_uri": "https://localhost:8080/",
          "height": 105
        },
        "id": "OZdOoZSs7fab",
        "outputId": "42f39076-cace-4887-db35-46865bd4479d"
      },
      "execution_count": 29,
      "outputs": [
        {
          "output_type": "execute_result",
          "data": {
            "text/plain": [
              "<matplotlib.axes._subplots.AxesSubplot at 0x7f32e85db6d0>"
            ]
          },
          "metadata": {},
          "execution_count": 29
        },
        {
          "output_type": "display_data",
          "data": {
            "text/plain": [
              "<Figure size 432x288 with 1 Axes>"
            ],
            "image/png": "[encoded data removed]"
          },
          "metadata": {
            "needs_background": "light"
          }
        }
      ]
    },
    {
      "cell_type": "markdown",
      "source": [
        "We can notice how the target attribute (\"weekend_gross_us_canada\") has noticable different correlations with the other attributes in each cluster."
      ],
      "metadata": {
        "id": "Qb0EWeaU3iUk"
      }
    },
    {
      "cell_type": "code",
      "source": [
        "data_0 = data[data['kmeans_cluster'] == 0]\n",
        "data_1 = data[data['kmeans_cluster'] == 1]"
      ],
      "metadata": {
        "id": "KHh0vxm-71Dr"
      },
      "execution_count": 30,
      "outputs": []
    },
    {
      "cell_type": "code",
      "source": [
        "data_0.corr()[\"weekend_gross_us_canada\"]#.sort_values(by=\"weekend_gross_us_canada\", ascending = False)"
      ],
      "metadata": {
        "colab": {
          "base_uri": "https://localhost:8080/"
        },
        "id": "Fffn9j9377jD",
        "outputId": "29b28287-d75d-4fd0-8708-be63cdd8b060"
      },
      "execution_count": 31,
      "outputs": [
        {
          "output_type": "execute_result",
          "data": {
            "text/plain": [
              "watchtime                  0.138418\n",
              "budget                     0.742133\n",
              "vader_sentiment           -0.122213\n",
              "popularity                 0.546091\n",
              "weekend_gross_us_canada    1.000000\n",
              "kmeans_cluster                  NaN\n",
              "Name: weekend_gross_us_canada, dtype: float64"
            ]
          },
          "metadata": {},
          "execution_count": 31
        }
      ]
    },
    {
      "cell_type": "code",
      "source": [
        "data_1.corr()[\"weekend_gross_us_canada\"]"
      ],
      "metadata": {
        "colab": {
          "base_uri": "https://localhost:8080/"
        },
        "id": "OML6U5cP8Yhr",
        "outputId": "d70aba16-b3e4-431d-9d3c-62e34eebf3a2"
      },
      "execution_count": 32,
      "outputs": [
        {
          "output_type": "execute_result",
          "data": {
            "text/plain": [
              "watchtime                 -0.078387\n",
              "budget                     0.514692\n",
              "vader_sentiment            0.025941\n",
              "popularity                 0.062416\n",
              "weekend_gross_us_canada    1.000000\n",
              "kmeans_cluster                  NaN\n",
              "Name: weekend_gross_us_canada, dtype: float64"
            ]
          },
          "metadata": {},
          "execution_count": 32
        }
      ]
    },
    {
      "cell_type": "markdown",
      "source": [
        "### Now, analyzing potential values for k in clustering, we see the following graphs:"
      ],
      "metadata": {
        "id": "8uiONyqO37p9"
      }
    },
    {
      "cell_type": "code",
      "source": [
        "#Taken from: https://www.analyticsvidhya.com/blog/2021/04/k-means-clustering-simplified-in-python/\n",
        "wcss=[]\n",
        "for i in range(1,30):\n",
        "  kmeans = KMeans(i)\n",
        "  kmeans.fit(X)\n",
        "  wcss_iter = kmeans.inertia_\n",
        "  wcss.append(wcss_iter)\n",
        "\n",
        "number_clusters = range(1,30)\n",
        "plt.plot(number_clusters,wcss)\n",
        "plt.title('Elbow Graph')\n",
        "plt.xlabel('Number of clusters')\n",
        "plt.ylabel('WCSS')"
      ],
      "metadata": {
        "colab": {
          "base_uri": "https://localhost:8080/",
          "height": 105
        },
        "id": "O1oBI3ZI9DMU",
        "outputId": "20448840-7619-447f-bfb6-c4144f1fcfa4"
      },
      "execution_count": 33,
      "outputs": [
        {
          "output_type": "execute_result",
          "data": {
            "text/plain": [
              "Text(0, 0.5, 'WCSS')"
            ]
          },
          "metadata": {},
          "execution_count": 33
        },
        {
          "output_type": "display_data",
          "data": {
            "text/plain": [
              "<Figure size 432x288 with 1 Axes>"
            ],
            "image/png": "[encoded data removed]"
          },
          "metadata": {
            "needs_background": "light"
          }
        }
      ]
    },
    {
      "cell_type": "code",
      "source": [
        "silhouette_scores = []\n",
        "for i in range(2,20):\n",
        "  kmeans = KMeans(i)\n",
        "  labels = kmeans.fit_predict(X)\n",
        "  silhouette_scores.append(silhouette_score(X, labels))\n",
        "\n",
        "number_clusters = range(2,20)\n",
        "#plt.ylabel('WCSS')\n",
        "plt.plot(number_clusters,silhouette_scores)\n",
        "plt.title('Silhouette Score Graph')\n",
        "plt.xlabel('Number of clusters')\n",
        "plt.ylabel('Silhouette Score')"
      ],
      "metadata": {
        "colab": {
          "base_uri": "https://localhost:8080/",
          "height": 122
        },
        "id": "xLM5M9Ig_FAt",
        "outputId": "0795bd47-258d-4ad9-d91d-de848968f312"
      },
      "execution_count": 34,
      "outputs": [
        {
          "output_type": "execute_result",
          "data": {
            "text/plain": [
              "Text(0, 0.5, 'Silhouette Score')"
            ]
          },
          "metadata": {},
          "execution_count": 34
        },
        {
          "output_type": "display_data",
          "data": {
            "text/plain": [
              "<Figure size 432x288 with 1 Axes>"
            ],
            "image/png": "[encoded data removed]"
          },
          "metadata": {
            "needs_background": "light"
          }
        }
      ]
    },
    {
      "cell_type": "markdown",
      "source": [
        "### Here, we see some descriptive statistics and plots for clusters inferred by the k-means algorithm using k=3 (without using the target attribute):\n",
        "\n",
        "With this, it becomes apparent that the application of cluster-then-predict modeling has the potential to be successful as clusters show noticeably different relationships between attributes."
      ],
      "metadata": {
        "id": "7cIsUC0P4Jz_"
      }
    },
    {
      "cell_type": "code",
      "source": [
        "kmeans = KMeans(3)\n",
        "data['kmeans_cluster'] = kmeans.fit_predict(X)"
      ],
      "metadata": {
        "id": "RjgWC2BoCV7k"
      },
      "execution_count": 35,
      "outputs": []
    },
    {
      "cell_type": "code",
      "source": [
        "for i in range(0,3):\n",
        "  print('i = ',i)\n",
        "  display(data[data['kmeans_cluster']==i].corr()['weekend_gross_us_canada'].sort_values(ascending=False))\n",
        "  print('---')\n",
        "  print('')"
      ],
      "metadata": {
        "colab": {
          "base_uri": "https://localhost:8080/",
          "height": 1000
        },
        "id": "tAUfonhtCu9O",
        "outputId": "2bb2386f-6652-423b-fa30-fe3915f7ca72"
      },
      "execution_count": 36,
      "outputs": [
        {
          "output_type": "stream",
          "name": "stdout",
          "text": [
            "i =  0\n"
          ]
        },
        {
          "output_type": "display_data",
          "data": {
            "text/plain": [
              "weekend_gross_us_canada    1.000000\n",
              "budget                     0.518774\n",
              "popularity                 0.077861\n",
              "vader_sentiment            0.028908\n",
              "watchtime                 -0.107864\n",
              "kmeans_cluster                  NaN\n",
              "Name: weekend_gross_us_canada, dtype: float64"
            ]
          },
          "metadata": {}
        },
        {
          "output_type": "stream",
          "name": "stdout",
          "text": [
            "---\n",
            "\n",
            "i =  1\n"
          ]
        },
        {
          "output_type": "display_data",
          "data": {
            "text/plain": [
              "weekend_gross_us_canada    1.000000\n",
              "budget                     0.746469\n",
              "popularity                 0.315697\n",
              "watchtime                 -0.001818\n",
              "vader_sentiment           -0.179071\n",
              "kmeans_cluster                  NaN\n",
              "Name: weekend_gross_us_canada, dtype: float64"
            ]
          },
          "metadata": {}
        },
        {
          "output_type": "stream",
          "name": "stdout",
          "text": [
            "---\n",
            "\n",
            "i =  2\n"
          ]
        },
        {
          "output_type": "display_data",
          "data": {
            "text/plain": [
              "weekend_gross_us_canada    1.000000\n",
              "budget                     0.977065\n",
              "watchtime                  0.869373\n",
              "vader_sentiment            0.282491\n",
              "popularity                -0.069225\n",
              "kmeans_cluster                  NaN\n",
              "Name: weekend_gross_us_canada, dtype: float64"
            ]
          },
          "metadata": {}
        },
        {
          "output_type": "stream",
          "name": "stdout",
          "text": [
            "---\n",
            "\n"
          ]
        }
      ]
    },
    {
      "cell_type": "code",
      "source": [
        "data['kmeans_cluster'].unique()"
      ],
      "metadata": {
        "colab": {
          "base_uri": "https://localhost:8080/"
        },
        "id": "eC0vDto5DpqX",
        "outputId": "1b27ad1f-e92f-4e7a-dfc1-d1a5a558b53d"
      },
      "execution_count": 37,
      "outputs": [
        {
          "output_type": "execute_result",
          "data": {
            "text/plain": [
              "array([0, 1, 2], dtype=int32)"
            ]
          },
          "metadata": {},
          "execution_count": 37
        }
      ]
    },
    {
      "cell_type": "code",
      "source": [
        "def getColor(x):\n",
        "  if (x == 0):\n",
        "    return 'r'\n",
        "  elif (x==1):\n",
        "    return 'c'\n",
        "  elif (x==2):\n",
        "    return 'y'\n",
        "  elif (x==3):\n",
        "    return 'b'\n",
        "  else:\n",
        "    return 'g'\n",
        "\n",
        "data[\"color\"] = data[\"kmeans_cluster\"].apply(getColor)\n",
        "data.plot.scatter(x='budget', y='watchtime', c='color')"
      ],
      "metadata": {
        "colab": {
          "base_uri": "https://localhost:8080/",
          "height": 105
        },
        "id": "BVARIqeSDUy5",
        "outputId": "79466e2a-66cf-4b7e-f9bb-fb4068ddd513"
      },
      "execution_count": 38,
      "outputs": [
        {
          "output_type": "execute_result",
          "data": {
            "text/plain": [
              "<matplotlib.axes._subplots.AxesSubplot at 0x7f32ca4388d0>"
            ]
          },
          "metadata": {},
          "execution_count": 38
        },
        {
          "output_type": "display_data",
          "data": {
            "text/plain": [
              "<Figure size 432x288 with 1 Axes>"
            ],
            "image/png": "[encoded data removed]"
          },
          "metadata": {
            "needs_background": "light"
          }
        }
      ]
    },
    {
      "cell_type": "code",
      "source": [
        "for i in range(0,3):\n",
        "  print('i = ',i)\n",
        "  display(data[data['kmeans_cluster']==i]['weekend_gross_us_canada'].describe())\n",
        "  print('---')\n",
        "  print('')"
      ],
      "metadata": {
        "colab": {
          "base_uri": "https://localhost:8080/",
          "height": 1000
        },
        "id": "20RTtr5Ar3E0",
        "outputId": "0d38d30a-0055-47d7-9108-a182bb6e61ca"
      },
      "execution_count": 39,
      "outputs": [
        {
          "output_type": "stream",
          "name": "stdout",
          "text": [
            "i =  0\n"
          ]
        },
        {
          "output_type": "display_data",
          "data": {
            "text/plain": [
              "count    3.910000e+02\n",
              "mean     1.093821e+07\n",
              "std      1.437876e+07\n",
              "min      1.044000e+03\n",
              "25%      1.182394e+06\n",
              "50%      6.864744e+06\n",
              "75%      1.504082e+07\n",
              "max      1.324346e+08\n",
              "Name: weekend_gross_us_canada, dtype: float64"
            ]
          },
          "metadata": {}
        },
        {
          "output_type": "stream",
          "name": "stdout",
          "text": [
            "---\n",
            "\n",
            "i =  1\n"
          ]
        },
        {
          "output_type": "display_data",
          "data": {
            "text/plain": [
              "count    1.750000e+02\n",
              "mean     4.234857e+07\n",
              "std      4.765007e+07\n",
              "min      2.284900e+04\n",
              "25%      1.089802e+07\n",
              "50%      2.685873e+07\n",
              "75%      5.562994e+07\n",
              "max      2.576982e+08\n",
              "Name: weekend_gross_us_canada, dtype: float64"
            ]
          },
          "metadata": {}
        },
        {
          "output_type": "stream",
          "name": "stdout",
          "text": [
            "---\n",
            "\n",
            "i =  2\n"
          ]
        },
        {
          "output_type": "display_data",
          "data": {
            "text/plain": [
              "count    2.100000e+01\n",
              "mean     5.180153e+07\n",
              "std      8.898194e+07\n",
              "min      1.440760e+05\n",
              "25%      5.527410e+06\n",
              "50%      1.603022e+07\n",
              "75%      2.754787e+07\n",
              "max      3.571150e+08\n",
              "Name: weekend_gross_us_canada, dtype: float64"
            ]
          },
          "metadata": {}
        },
        {
          "output_type": "stream",
          "name": "stdout",
          "text": [
            "---\n",
            "\n"
          ]
        }
      ]
    },
    {
      "cell_type": "markdown",
      "source": [
        "## Cluster-Then-Predict Models\n",
        "\n",
        "This section trains models that utilize both clustering and regression - using different combinations of attributes in the data to evaluate the predictive power of different models and feature sets."
      ],
      "metadata": {
        "id": "HzDi_1i-ERIu"
      }
    },
    {
      "cell_type": "markdown",
      "source": [
        "### Define the Needed Functions:"
      ],
      "metadata": {
        "id": "zUtPG3FYMLeW"
      }
    },
    {
      "cell_type": "markdown",
      "source": [
        "First, we can define a general function to apply the cluster and predict method:\n",
        "\n"
      ],
      "metadata": {
        "id": "3q59_K6nN3d3"
      }
    },
    {
      "cell_type": "code",
      "source": [
        "def cluster_and_predict(data_train, data_test, x_cols, y_col, model_cons_func, max_num_clusters = 10, display_plot = False):\n",
        "  data_train = data_train.copy()\n",
        "  data_test = data_test.copy()\n",
        "\n",
        "  #Standardize the data columns (after fitting on the training set)\n",
        "  scaler = StandardScaler()\n",
        "  data_train[x_cols] = scaler.fit_transform(data_train[x_cols])\n",
        "  X_cluster_train = data_train[x_cols] #to be used for clustering\n",
        "\n",
        "  #Use the trained scaler to transfor me test set into the same vector space\n",
        "  data_test[x_cols] = scaler.transform(data_test[x_cols])\n",
        "  X_cluster_test = data_test[x_cols] #to be used for clustering\n",
        "\n",
        "\n",
        "  #Determine the optimal number of clusters and the associated cluster assignments\n",
        "  max_silhouette_score = 0\n",
        "  kmeans = KMeans(1)#dummy value for 1 cluster, will likely be changed\n",
        "  labels = kmeans.fit_predict(X_cluster_train) #dummy value for 1 cluster, will likely be changed\n",
        "  k = 1 #optimum k found\n",
        "  for i in range(2,max_num_clusters+1):\n",
        "    kmeans_iter = KMeans(i)\n",
        "    labels_iter = kmeans_iter.fit_predict(X_cluster_train)\n",
        "    score = silhouette_score(X_cluster_train, labels_iter)\n",
        "    if score > max_silhouette_score:\n",
        "      k = i\n",
        "      kmeans = kmeans_iter\n",
        "      labels = labels_iter\n",
        "      max_silhouette_score = score\n",
        "  \n",
        "  #print('number of clusters determined :', k)\n",
        "\n",
        "  data_train['cluster'] = labels\n",
        "\n",
        "  #Predict clusters for each row in the test set\n",
        "  data_test['cluster'] = kmeans.predict(X_cluster_test)\n",
        "  X_test = (data_test[x_cols])\n",
        "\n",
        "  #Train models for each cluster and predict\n",
        "  models = []\n",
        "  y_test_clustered = np.array([])\n",
        "  y_pred_clustered = np.array([])\n",
        "  for i in range(0,k):\n",
        "    X_train_i = ((data_train[data_train['cluster'] == i])[x_cols]).to_numpy()\n",
        "    y_train_i = (data_train[data_train['cluster'] == i])[y_col]\n",
        "    model = model_cons_func()\n",
        "    model.fit(X_train_i,y_train_i)\n",
        "    models.append(model)\n",
        "\n",
        "    num_test_rows = len(data_test[data_test['cluster'] == i])\n",
        "\n",
        "    if(num_test_rows>0):\n",
        "      actual = ((data_test[data_test['cluster'] == i])[y_col]).to_numpy()\n",
        "      y_test_clustered = np.concatenate([y_test_clustered, actual])\n",
        "\n",
        "      predicted = model.predict(((data_test[data_test['cluster'] == i])[x_cols]).to_numpy())\n",
        "      y_pred_clustered = np.concatenate([y_pred_clustered, predicted])\n",
        "\n",
        "  score = metrics.r2_score(y_test_clustered, y_pred_clustered)\n",
        "\n",
        "  if  display_plot:\n",
        "    plt.scatter(y_test_clustered, y_pred_clustered)\n",
        "    plt.title('Prediction Results\\nR^2 = '+str(score))\n",
        "    plt.xlabel('True Values')\n",
        "    plt.ylabel('Predicted Values')\n",
        "    plt.show()\n",
        "\n",
        "  return score"
      ],
      "metadata": {
        "id": "vSsnRingEZH8"
      },
      "execution_count": 40,
      "outputs": []
    },
    {
      "cell_type": "markdown",
      "source": [
        "Now, let us define a function to use cross validation to evaluate the performence of our model:"
      ],
      "metadata": {
        "id": "udIa-4pY8dWr"
      }
    },
    {
      "cell_type": "code",
      "source": [
        "#Using some code from the documentation:\n",
        "#https://scikit-learn.org/stable/modules/generated/sklearn.model_selection.KFold.html\n",
        "\n",
        "#Here, we run k-fold cross vlaidation multiple times\n",
        "#and report the average of the \"average score in between the folds\"\n",
        "#as well as the standard deviaton of such averages\n",
        "\n",
        "#This approach largely stableizes the results.\n",
        "#Hovever, general variability between runs with different random states should be noted.\n",
        "#This is likely the result of the limited size of the dataset.\n",
        "\n",
        "def k_fold_cluster_and_predict(data, x_cols, y_col, model_cons_func, n_folds = 5, n_repeats = 20):\n",
        "  scores = [] #Average fold scores of each different run of k-fold cross-validation\n",
        "  for i in range(0,n_repeats):\n",
        "    data = data.copy()\n",
        "    kf = KFold(n_splits=n_folds, shuffle = True)\n",
        "    kf.get_n_splits(data)\n",
        "\n",
        "    scores_iter = [] #Scores in each step of a single k-fold cross-validation\n",
        "    for train_index, test_index in kf.split(data):\n",
        "      data_train_k, data_test_k = data.iloc[train_index], data.iloc[test_index]\n",
        "      scores_iter.append(cluster_and_predict(data_train_k, data_test_k, x_cols, y_col, model_cons_func))\n",
        "\n",
        "    mean_score_iter = mean(scores_iter) #Mean score over the k folds\n",
        "    scores.append(mean_score_iter)\n",
        "\n",
        "  mean_score = mean(scores)\n",
        "  score_std = stdev(scores)\n",
        "\n",
        "  print('mean_score =',mean_score) #Average of all k-fold cross-validation averages\n",
        "  print('score_std =',score_std) #Standard deviation of all k-fold cross-validationaverages\n",
        "  print('')"
      ],
      "metadata": {
        "id": "HHmJAQLi8iJU"
      },
      "execution_count": 41,
      "outputs": []
    },
    {
      "cell_type": "markdown",
      "source": [
        "### Prepare The Needed Variables"
      ],
      "metadata": {
        "id": "hhV3vfYyFccv"
      }
    },
    {
      "cell_type": "code",
      "source": [
        "x_cols_meta = [\"watchtime\",\"budget\"]\n",
        "x_cols_pop = [\"watchtime\",\"budget\",\"popularity\"]\n",
        "x_cols_pop_vader = [\"watchtime\",\"budget\",\"popularity\",\"vader_sentiment\"]\n",
        "x_cols_pop_blob = [\"watchtime\",\"budget\",\"popularity\",\"text_blob_polarity\", \"text_blob_subjectivity\"]\n",
        "\n",
        "y_col = \"weekend_gross_us_canada\"\n",
        "\n",
        "cols = [\"watchtime\",\"budget\",\"popularity\", \"vader_sentiment\", \"text_blob_polarity\", \"text_blob_subjectivity\", \"weekend_gross_us_canada\"]\n",
        "\n",
        "data = df[cols].copy()"
      ],
      "metadata": {
        "id": "_FABLc8JFbsw"
      },
      "execution_count": 42,
      "outputs": []
    },
    {
      "cell_type": "markdown",
      "source": [
        "### Train and Test Models"
      ],
      "metadata": {
        "id": "_jKtYPsQzibK"
      }
    },
    {
      "cell_type": "markdown",
      "source": [
        "#### Modeling with just metadata"
      ],
      "metadata": {
        "id": "6JxizGtSMqw1"
      }
    },
    {
      "cell_type": "code",
      "source": [
        "k_fold_cluster_and_predict(data, x_cols_meta, y_col, LinearRegression)"
      ],
      "metadata": {
        "colab": {
          "base_uri": "https://localhost:8080/"
        },
        "id": "f2byMfREEjnj",
        "outputId": "ff3ce79e-e890-456f-c95a-f61ea8dfa446"
      },
      "execution_count": 43,
      "outputs": [
        {
          "output_type": "stream",
          "name": "stdout",
          "text": [
            "mean_score = 0.5867396533872434\n",
            "score_std = 0.029435815096566297\n",
            "\n"
          ]
        }
      ]
    },
    {
      "cell_type": "code",
      "source": [
        "k_fold_cluster_and_predict(data, x_cols_meta, y_col, RandomForestRegressor)"
      ],
      "metadata": {
        "colab": {
          "base_uri": "https://localhost:8080/"
        },
        "id": "fsg1EGysFAp5",
        "outputId": "ca00c761-23db-4873-d5e2-92d09affdbfd"
      },
      "execution_count": 44,
      "outputs": [
        {
          "output_type": "stream",
          "name": "stdout",
          "text": [
            "mean_score = 0.4630963002428956\n",
            "score_std = 0.05328990311023847\n",
            "\n"
          ]
        }
      ]
    },
    {
      "cell_type": "code",
      "source": [
        "k_fold_cluster_and_predict(data, x_cols_meta, y_col, AdaBoostRegressor)"
      ],
      "metadata": {
        "colab": {
          "base_uri": "https://localhost:8080/"
        },
        "id": "JxtoYlv4FEmp",
        "outputId": "31382a0e-a856-4bc5-fdca-d04ad12831f6"
      },
      "execution_count": 45,
      "outputs": [
        {
          "output_type": "stream",
          "name": "stdout",
          "text": [
            "mean_score = 0.5214244863974116\n",
            "score_std = 0.05426000440725154\n",
            "\n"
          ]
        }
      ]
    },
    {
      "cell_type": "markdown",
      "source": [
        "#### Modeling with metadata + population"
      ],
      "metadata": {
        "id": "4pR0KIXKM4Za"
      }
    },
    {
      "cell_type": "code",
      "source": [
        "k_fold_cluster_and_predict(data, x_cols_pop, y_col, LinearRegression)"
      ],
      "metadata": {
        "colab": {
          "base_uri": "https://localhost:8080/"
        },
        "id": "-R_x9QkyM4Zb",
        "outputId": "66e44b91-3018-47f9-f030-853396e7c71c"
      },
      "execution_count": 46,
      "outputs": [
        {
          "output_type": "stream",
          "name": "stdout",
          "text": [
            "mean_score = 0.6406128152989953\n",
            "score_std = 0.04256177174088249\n",
            "\n"
          ]
        }
      ]
    },
    {
      "cell_type": "code",
      "source": [
        "k_fold_cluster_and_predict(data, x_cols_pop, y_col, RandomForestRegressor)"
      ],
      "metadata": {
        "colab": {
          "base_uri": "https://localhost:8080/"
        },
        "id": "oh4ajySlM4Zc",
        "outputId": "00faa0e0-bf7c-477a-8c6d-25b1b2a033a4"
      },
      "execution_count": 47,
      "outputs": [
        {
          "output_type": "stream",
          "name": "stdout",
          "text": [
            "mean_score = 0.5622237842116158\n",
            "score_std = 0.032956899927290756\n",
            "\n"
          ]
        }
      ]
    },
    {
      "cell_type": "code",
      "source": [
        "k_fold_cluster_and_predict(data, x_cols_pop, y_col, AdaBoostRegressor)"
      ],
      "metadata": {
        "colab": {
          "base_uri": "https://localhost:8080/"
        },
        "id": "BbgVexaFM4Zc",
        "outputId": "fef89a86-25a1-4b92-e17e-adfacbdfa5cb"
      },
      "execution_count": 48,
      "outputs": [
        {
          "output_type": "stream",
          "name": "stdout",
          "text": [
            "mean_score = 0.5479630035495732\n",
            "score_std = 0.03667767114154214\n",
            "\n"
          ]
        }
      ]
    },
    {
      "cell_type": "markdown",
      "source": [
        "#### Modeling with metadata + population + VADER sentiment"
      ],
      "metadata": {
        "id": "6o0c0Tr9NErJ"
      }
    },
    {
      "cell_type": "code",
      "source": [
        "k_fold_cluster_and_predict(data, x_cols_pop_vader, y_col, LinearRegression)"
      ],
      "metadata": {
        "colab": {
          "base_uri": "https://localhost:8080/"
        },
        "id": "yaDIAr1INErK",
        "outputId": "93bb999d-00a3-4f1a-bd13-48a74ba7d2e3"
      },
      "execution_count": 49,
      "outputs": [
        {
          "output_type": "stream",
          "name": "stdout",
          "text": [
            "mean_score = 0.6183699854826336\n",
            "score_std = 0.05314769293190842\n",
            "\n"
          ]
        }
      ]
    },
    {
      "cell_type": "code",
      "source": [
        "k_fold_cluster_and_predict(data, x_cols_pop_vader, y_col, RandomForestRegressor)"
      ],
      "metadata": {
        "colab": {
          "base_uri": "https://localhost:8080/"
        },
        "id": "uLZd0E4QNErK",
        "outputId": "0eacf5cb-0137-413c-ef01-7f1dc5839f75"
      },
      "execution_count": 50,
      "outputs": [
        {
          "output_type": "stream",
          "name": "stdout",
          "text": [
            "mean_score = 0.5519534389521799\n",
            "score_std = 0.04464444736187534\n",
            "\n"
          ]
        }
      ]
    },
    {
      "cell_type": "code",
      "source": [
        "k_fold_cluster_and_predict(data, x_cols_pop_vader, y_col, AdaBoostRegressor)\n"
      ],
      "metadata": {
        "colab": {
          "base_uri": "https://localhost:8080/"
        },
        "id": "CTjkugj_NErK",
        "outputId": "70c9389f-9359-4917-b447-636568bfbee0"
      },
      "execution_count": 51,
      "outputs": [
        {
          "output_type": "stream",
          "name": "stdout",
          "text": [
            "mean_score = 0.5136809483200391\n",
            "score_std = 0.038461206409001525\n",
            "\n"
          ]
        }
      ]
    },
    {
      "cell_type": "markdown",
      "source": [
        "#### Modeling with metadata + population + TextBlob sentiment"
      ],
      "metadata": {
        "id": "fkXJKGupNFug"
      }
    },
    {
      "cell_type": "code",
      "source": [
        "k_fold_cluster_and_predict(data, x_cols_pop_blob, y_col, LinearRegression)"
      ],
      "metadata": {
        "colab": {
          "base_uri": "https://localhost:8080/"
        },
        "id": "HDFx3hKiNFug",
        "outputId": "abdb62f8-a39a-43c2-8838-7ac63fc1092f"
      },
      "execution_count": 52,
      "outputs": [
        {
          "output_type": "stream",
          "name": "stdout",
          "text": [
            "mean_score = 0.6292302934328433\n",
            "score_std = 0.039676045770618305\n",
            "\n"
          ]
        }
      ]
    },
    {
      "cell_type": "code",
      "source": [
        "k_fold_cluster_and_predict(data, x_cols_pop_blob, y_col, RandomForestRegressor)"
      ],
      "metadata": {
        "colab": {
          "base_uri": "https://localhost:8080/"
        },
        "id": "ZxQA3f6qNFug",
        "outputId": "55647761-253e-4d6a-9111-65af4d19e6c2"
      },
      "execution_count": 56,
      "outputs": [
        {
          "output_type": "stream",
          "name": "stdout",
          "text": [
            "mean_score = 0.5363693773513492\n",
            "score_std = 0.047657734094376056\n",
            "\n"
          ]
        }
      ]
    },
    {
      "cell_type": "code",
      "source": [
        "k_fold_cluster_and_predict(data, x_cols_pop_blob, y_col, AdaBoostRegressor)"
      ],
      "metadata": {
        "colab": {
          "base_uri": "https://localhost:8080/"
        },
        "id": "UiyTB-0MNFug",
        "outputId": "cbaeea68-3265-44dd-bad5-99aabf1c440a"
      },
      "execution_count": 54,
      "outputs": [
        {
          "output_type": "stream",
          "name": "stdout",
          "text": [
            "mean_score = 0.5009586893338014\n",
            "score_std = 0.054630752881424244\n",
            "\n"
          ]
        }
      ]
    }
  ],
  "metadata": {
    "kernelspec": {
      "display_name": "Python 3 (ipykernel)",
      "language": "python",
      "name": "python3"
    },
    "language_info": {
      "codemirror_mode": {
        "name": "ipython",
        "version": 3
      },
      "file_extension": ".py",
      "mimetype": "text/x-python",
      "name": "python",
      "nbconvert_exporter": "python",
      "pygments_lexer": "ipython3",
      "version": "3.9.7"
    },
    "colab": {
      "name": "models.ipynb",
      "provenance": [],
      "collapsed_sections": [
        "wEaugoxhkZTN",
        "R49PXqIFkZTQ",
        "QHuqxfUpvEQ8",
        "dT5eBtcKkZTS",
        "36-vg7a2mEa8",
        "7cIsUC0P4Jz_",
        "hhV3vfYyFccv"
      ]
    }
  },
  "nbformat": 4,
  "nbformat_minor": 0
}